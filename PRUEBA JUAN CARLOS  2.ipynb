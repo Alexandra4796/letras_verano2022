{
  "nbformat": 4,
  "nbformat_minor": 0,
  "metadata": {
    "colab": {
      "name": "Untitled1.ipynb",
      "provenance": []
    },
    "kernelspec": {
      "name": "python3",
      "display_name": "Python 3"
    },
    "language_info": {
      "name": "python"
    }
  },
  "cells": [
    {
      "cell_type": "code",
      "execution_count": 1,
      "metadata": {
        "colab": {
          "base_uri": "https://localhost:8080/"
        },
        "id": "Z8U7GRJ0R6Q-",
        "outputId": "78b1688b-8b78-48aa-bc33-d25696695daa"
      },
      "outputs": [
        {
          "output_type": "execute_result",
          "data": {
            "text/plain": [
              "4"
            ]
          },
          "metadata": {},
          "execution_count": 1
        }
      ],
      "source": [
        "2 + 2"
      ]
    },
    {
      "cell_type": "markdown",
      "source": [
        "Hola Carla, esta es una prueba , para la tarea de las RAMAS =)"
      ],
      "metadata": {
        "id": "rQFOK_AOSU1F"
      }
    },
    {
      "cell_type": "markdown",
      "source": [
        "UNA PRUEBA MÁS USANDO GOOGLE COLAB Y USANDO GITHUB DESKTOP "
      ],
      "metadata": {
        "id": "2kOiNLxlSvMy"
      }
    },
    {
      "cell_type": "code",
      "source": [
        "x = \"Juan Carlos\"\n",
        "z = \" Gonzalez Ciudad\"\n",
        "x + z"
      ],
      "metadata": {
        "colab": {
          "base_uri": "https://localhost:8080/",
          "height": 35
        },
        "id": "uVkFOA2YS0qY",
        "outputId": "310ae3bf-f448-4a0d-d13f-d8cc66749456"
      },
      "execution_count": 6,
      "outputs": [
        {
          "output_type": "execute_result",
          "data": {
            "application/vnd.google.colaboratory.intrinsic+json": {
              "type": "string"
            },
            "text/plain": [
              "'Juan Carlos Gonzalez Ciudad'"
            ]
          },
          "metadata": {},
          "execution_count": 6
        }
      ]
    }
  ]
}